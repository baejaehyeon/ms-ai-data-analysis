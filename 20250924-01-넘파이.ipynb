{
 "cells": [
  {
   "cell_type": "markdown",
   "id": "a50a3865",
   "metadata": {},
   "source": [
    "1) numpy : C 언어 기반으로 구현된 고성능 다차원 배열(ndarray) 라이브러리.\n",
    "- 반복문 없이도 벡터/행렬 연산 가능 → 연산 속도가 Python 내장 리스트보다 훨씬 빠름.\n",
    "- 용도: 대수 계산, 수치 계산, 행렬 연산, 통계 계산.\n",
    "- 결과 구조: ndarray (차원 수에 따라 1D, 2D, 3D 등 가능).\n",
    "\n",
    "2) numpy 설치\n",
    "- 쥬피터 노트북 코드 셀에서 !pip install numpy\n",
    "- 또는 vscode 터미널에서 pip install numpy\n",
    "- numpy는 커널 단위로 설치되므로, 타 ipynb 파일이더라도 커널 공유 시 바로 numpy 사용 가능\n",
    "\n",
    "3) numpy 배열 특징\n",
    "- 배열 내부의, 각 원소는 동일한 자료형으로만 구성된다.\n",
    "- 배열 내부에 다른 자료형 데이터를 삽입하면, 표현범위가 더 큰 한가지 데이터 타입으로 자동 형변환된다.\n"
   ]
  },
  {
   "cell_type": "markdown",
   "id": "c608315d",
   "metadata": {},
   "source": [
    "### 번호 제목\n",
    "\n",
    "\"\"\"\n",
    "- 설명 1\n",
    "- 설명 2\n",
    "\"\"\"\n",
    "\n",
    "\n",
    "#```\n",
    "\n",
    "\n",
    "코드 작성란\n",
    "\n",
    "\n",
    "#```\n"
   ]
  },
  {
   "cell_type": "code",
   "execution_count": null,
   "id": "86528949",
   "metadata": {},
   "outputs": [
    {
     "name": "stdout",
     "output_type": "stream",
     "text": [
      "2.3.3\n",
      "[ 1  2  3  4  5  6  7  8  9 10]\n",
      "==============================\n",
      "[[1 2 3]\n",
      " [4 5 6]\n",
      " [7 8 9]]\n",
      "==============================\n",
      "[[[ 1  2  3]\n",
      "  [ 4  5  6]]\n",
      "\n",
      " [[ 7  8  9]\n",
      "  [10 11 12]]]\n",
      "==============================\n"
     ]
    },
    {
     "data": {
      "text/plain": [
       "'\\n```\\n'"
      ]
     },
     "execution_count": 9,
     "metadata": {},
     "output_type": "execute_result"
    }
   ],
   "source": [
    "### 7.2 Numpy 기본 배열 생성\n",
    "\n",
    "\"\"\"\n",
    "- numpy.array(리스트)\n",
    "\"\"\"\n",
    "\n",
    "\"\"\"\n",
    "```\n",
    "\"\"\"\n",
    "import numpy as np\n",
    "print(np.__version__) # Numpy 버전\n",
    "\n",
    "list1 = [1,2,3,4,5,6,7,8,9,10]  # 파이썬 1차원 리스트\n",
    "nArr1 = np.array(list1)         # 넘파이 배열로 변환\n",
    "print(nArr1)                    # 공백으로 구분됨.\n",
    "print('=' * 30)\n",
    "\n",
    "list2 = [[1,2,3], [4,5,6], [7,8,9]] # 파이선 2차원 리스트\n",
    "nArr2 = np.array(list2)\n",
    "print(nArr2)\n",
    "print('=' * 30)\n",
    "\n",
    "list3 = [[[1,2,3], [4,5,6]], [[7,8,9], [10, 11, 12]]] # 파이선 3차원 리스트\n",
    "nArr3 = np.array(list3)\n",
    "print(nArr3)\n",
    "print('=' * 30)\n",
    "\n",
    "\"\"\"\n",
    "```\n",
    "\"\"\""
   ]
  },
  {
   "cell_type": "code",
   "execution_count": 34,
   "id": "0d836e04",
   "metadata": {},
   "outputs": [
    {
     "name": "stdout",
     "output_type": "stream",
     "text": [
      "int64\n",
      "==============================\n",
      "float64\n",
      "==============================\n",
      "[1. 2. 3. 4. 5.]\n",
      "float64\n",
      "==============================\n",
      "[1 2 3 4 5]\n",
      "int64\n",
      "==============================\n",
      "[1. 2. 3. 4. 5.]\n",
      "float64\n"
     ]
    },
    {
     "data": {
      "text/plain": [
       "'\\n```\\n'"
      ]
     },
     "execution_count": 34,
     "metadata": {},
     "output_type": "execute_result"
    }
   ],
   "source": [
    "### 7.3 배열  자료형 확인 (dtype)\n",
    "\n",
    "\"\"\"\n",
    "- 배열.dtype : 배열 자료형을 출력\n",
    "- numpy.array(리스트, dtype=자료형) : 배열 변환 시, 자료형을 지정할 수 있다.\n",
    "\"\"\"\n",
    "\n",
    "\"\"\"\n",
    "```\n",
    "\"\"\"\n",
    "import numpy as np\n",
    "\n",
    "nArr1 = np.array([1,2,3,4,5,6,7,8,9,10])\n",
    "print(nArr1.dtype)          #int64\n",
    "print('=' * 30)\n",
    "\n",
    "nArr2 = np.array([1.1, 2.2, 3.3, 4.4])\n",
    "print(nArr2.dtype)          #float64\n",
    "print('=' * 30)\n",
    "\n",
    "# 여러 자료형 동일 배열에 삽입 시, 표현 범위가 더 큰 자료형으로 자동 형변환 됨.\n",
    "nArr3 = np.array([1, 2, 3.0, 4.0, 5.0])\n",
    "print(nArr3)                #전부 float형으로 자동 변환됨\n",
    "print(nArr3.dtype)          #float64\n",
    "print('=' * 30)\n",
    "\n",
    "# 배열 변환 시, dtype 속성을 이용해 데이터 타입을 지정할 수 있다.\n",
    "nArr4 = np.array([1, 2, 3.0, 4.0, 5.0], dtype='int64')\n",
    "print(nArr4)                #전부 int형\n",
    "print(nArr4.dtype)          #int64\n",
    "print('=' * 30)\n",
    "\n",
    "# 또는 astype를 활용해 이미 생성된 배열의 자료형을 변경할 수 있다.\n",
    "nArr4 = nArr4.astype(np.float64)\n",
    "print(nArr4)                \n",
    "print(nArr4.dtype)          #float64\n",
    "\n",
    "\"\"\"\n",
    "```\n",
    "\"\"\""
   ]
  },
  {
   "cell_type": "code",
   "execution_count": null,
   "id": "3c757224",
   "metadata": {},
   "outputs": [
    {
     "name": "stdout",
     "output_type": "stream",
     "text": [
      "1\n",
      "(5,)\n",
      "==============================\n",
      "2\n",
      "(2, 3)\n",
      "==============================\n",
      "2\n",
      "(3, 4)\n",
      "==============================\n",
      "(4, 3)\n",
      "==============================\n",
      "[[[ 1  2  3]\n",
      "  [ 4  5  6]]\n",
      "\n",
      " [[ 7  8  9]\n",
      "  [10 11 12]]]\n",
      "3\n",
      "(2, 2, 3)\n",
      "==============================\n"
     ]
    },
    {
     "data": {
      "text/plain": [
       "'\\n```\\n'"
      ]
     },
     "execution_count": 27,
     "metadata": {},
     "output_type": "execute_result"
    }
   ],
   "source": [
    "### 7.4 배열의 차원과 행,열 (ndim, shap, reshape)\n",
    "\n",
    "\"\"\"\n",
    "- 배열.ndim : 배열의 차원을 출력 1차원 => 1, 2차원 => 2, 3차원 => 3..\n",
    "- 배열.shape : 배열의 행,열 관계를 출력. \n",
    "- 배열.reshape(행, 열) : 행,열 변환. 행에 음수 작성 시, 자동으로 연산에 의해 행의 갯수가 정해진다. 열도 마찬가지\n",
    "\"\"\"\n",
    "\n",
    "\"\"\"\n",
    "```\n",
    "\"\"\"\n",
    "import numpy as np\n",
    "\n",
    "nArr1 = np.array([1,2,3,4,5])\n",
    "print(nArr1.ndim)   # 1     : 1차원\n",
    "print(nArr1.shape)  # (5,)  : 1차원일 경우 행열이 다음과 같이 표시됨.\n",
    "print('=' * 30)\n",
    "\n",
    "nArr2 = np.array([[1,2,3],[4,5,6]])\n",
    "print(nArr2.ndim)   # 2     : 2차원\n",
    "print(nArr2.shape)  # (2,3) : 2행 3열\n",
    "print('=' * 30)\n",
    "\n",
    "nArr3 = np.array([[1,2,3,4], [5,6,7,8], [9,10,11,12]])\n",
    "print(nArr3.ndim)   # 2      : 2차원\n",
    "print(nArr3.shape)  # (3,4)  : 3행 4열\n",
    "print('=' * 30)\n",
    "\n",
    "nArr3 = nArr3.reshape(-1, 3) # 행열 변환. 3열에 맞춰 행의 갯수가 정해진다.\n",
    "print(nArr3.shape)  # (4,3)  : 4행 3열\n",
    "print('=' * 30)\n",
    "\n",
    "nArr3 = nArr3.reshape(2, -1, 3) # 2행 3열로 변환하고, 깊이는 갯수에 맞춰.\n",
    "print(nArr3)\n",
    "print(nArr3.ndim)   # 3       : 3차원\n",
    "print(nArr3.shape)  # (2,2,3) : 2행 2깊이 3열\n",
    "print('=' * 30)\n",
    "\n",
    "\"\"\"\n",
    "```\n",
    "\"\"\""
   ]
  },
  {
   "cell_type": "code",
   "execution_count": null,
   "id": "ed1271fd",
   "metadata": {},
   "outputs": [
    {
     "name": "stdout",
     "output_type": "stream",
     "text": [
      "[ 7  9 11 13 15]\n",
      "[-5 -5 -5 -5 -5]\n",
      "[ 6 14 24 36 50]\n",
      "[0.16666667 0.28571429 0.375      0.44444444 0.5       ]\n",
      "==============================\n",
      "[4 5 6 7 8]\n",
      "[0 1 2 3 4]\n",
      "[ 2  4  6  8 10]\n",
      "[0.5 1.  1.5 2.  2.5]\n",
      "==============================\n",
      "[12 24 36]\n",
      "[False  True False]\n",
      "[False  True  True]\n",
      "[False  True False]\n"
     ]
    },
    {
     "data": {
      "text/plain": [
       "'\\n```\\n'"
      ]
     },
     "execution_count": 31,
     "metadata": {},
     "output_type": "execute_result"
    }
   ],
   "source": [
    "### 7.5 배열 사칙연산\n",
    "\n",
    "\"\"\"\n",
    "- 배열 연산자 배열 : 배열간의 연산 시, 동일 인덱스 원소끼리 연산을 진행한다.\n",
    "- &, | : 배열의 동일 인덱스 원소의 Boolean 값을 연산한다.\n",
    "\"\"\"\n",
    "\n",
    "\"\"\"\n",
    "```\n",
    "\"\"\"\n",
    "import numpy as np\n",
    "\n",
    "aList = np.array([1,2,3,4,5])\n",
    "bList = np.array([6,7,8,9,10])\n",
    "\n",
    "# 1은 6과, 2는 7과, 3은 8과, 4는 9와, 5는 10과 연산(동일 인덱스 원소끼리 연산 진행)\n",
    "print(aList + bList)\n",
    "print(aList - bList)\n",
    "print(aList * bList)\n",
    "print(aList / bList)\n",
    "print('=' * 30)\n",
    "\n",
    "# 배열과 숫자 연산 시, 배열의 모든 원소에 숫자를 연산한다.\n",
    "print(aList + 3)\n",
    "print(aList - 1)\n",
    "print(aList * 2)\n",
    "print(aList / 2)\n",
    "print('=' * 30)\n",
    "\n",
    "# 간단 문제\n",
    "aList = np.array([1,2,3])\n",
    "bList = np.array([10,20,30])\n",
    "\n",
    "print(2 * aList + bList)\n",
    "print(aList == 2)\n",
    "print(bList > 10)\n",
    "print((aList == 2) & (bList > 10))\n",
    "\n",
    "\"\"\"\n",
    "```\n",
    "\"\"\""
   ]
  },
  {
   "cell_type": "code",
   "execution_count": 10,
   "id": "8a86ed1b",
   "metadata": {},
   "outputs": [
    {
     "name": "stdout",
     "output_type": "stream",
     "text": [
      "0 1 5\n",
      "[0, 1] [4, 5]\n",
      "[1 4]\n",
      "==============================\n",
      "[[5 6]\n",
      " [8 9]]\n",
      "[[7 8 9]]\n",
      "==============================\n",
      "5\n",
      "[5]\n",
      "[1 2 3]\n",
      "[3 6 9]\n",
      "[[1 2]\n",
      " [4 5]]\n",
      "[1 5 9]\n",
      "[6 9]\n",
      "==============================\n",
      "[[ 0  1  2  3]\n",
      " [ 4  5  6  7]\n",
      " [ 8  9 10 11]\n",
      " [12 13 14 15]]\n",
      "[[ 0  1]\n",
      " [ 4  5]\n",
      " [ 8  9]\n",
      " [12 13]]\n",
      "[ 0  4  8 12]\n"
     ]
    },
    {
     "data": {
      "text/plain": [
       "'\\n```\\n'"
      ]
     },
     "execution_count": 10,
     "metadata": {},
     "output_type": "execute_result"
    }
   ],
   "source": [
    "### 7.6 배열 인덱스 슬라이싱\n",
    "\n",
    "\"\"\"\n",
    "- 파이썬 리스트와 다르게, 배열 슬라이스는 원래 배열에 대한 View이기 때문에, 값 변경 시 원본 배열에도 영향이 있다.\n",
    "- 원본 배열에 영향이 없도록 하고자 copy() 메서드를 사용해 깊은 복사를 진행할 수 있다.\n",
    "- 다차원 배열에서 특정 값을 추출하는것을 인덱스 슬라이싱을 이용할 수 있고, 파이썬 리스트에서의 추출과 동일하다.\n",
    "\n",
    "\"\"\"\n",
    "\n",
    "\"\"\"\n",
    "```\n",
    "\"\"\"\n",
    "import numpy as np\n",
    "\n",
    "# 파이썬 리스트 인덱스 슬라이싱\n",
    "aList = [[0,1,2], [3,4,5]]\n",
    "print(aList[0][0], aList[0][1], aList[1][2]) # 0, 1, 5 추출\n",
    "\n",
    "print(aList[0][:2], aList[1][1:]) # 0,1과 4,5 추출\n",
    "bList = np.array([aList[0][1], aList[1][1]]) # 1,4 추출하여 리스트의 원소로 만든 후, 넘파이 배열로 변환\n",
    "print(bList)\n",
    "\n",
    "print('=' * 30)\n",
    "\n",
    "# 주의!\n",
    "cList = np.array([[1,2,3], [4,5,6], [7,8,9]])\n",
    "print(cList[1:, 1:])    # [[5,6], [8,9]\n",
    "print(cList[1:][1:])    # [[7,8,9]]\n",
    "print('=' * 30)\n",
    "\n",
    "#문제 1 cList에서 값 5만 추출하시오.\n",
    "print(cList[1][1])\n",
    "print(cList[1, [1]])\n",
    "#문제 2 cList에서 **첫 번째 행 전체 ([1,2,3])**를 추출하시오.\n",
    "print(cList[0])\n",
    "#문제 3 cList에서 **마지막 열 ([3,6,9])**만 추출하시오.\n",
    "print(cList[:, -1])\n",
    "#문제 4 cList에서 왼쪽 위 2×2 부분 배열 (즉, [[1,2],[4,5]])을 추출하시오.\n",
    "print(cList[:2, :2])\n",
    "#문제 5 cList에서 **대각선 값 ([1,5,9])**을 추출하시오.\n",
    "print(cList[[0,1,2],[0,1,2]])\n",
    "#문제 6 cList에서 6, 9만 출력하시오.\n",
    "print(cList[1:, -1])\n",
    "\n",
    "print('=' * 30)\n",
    "\n",
    "dList = np.array([[0,1,2,3], [4,5,6,7], [8,9,10,11], [12,13,14,15]])\n",
    "print(dList)\n",
    "print(dList[:, :2])\n",
    "print(dList[[0,1,2,3],[0,0,0,0]])\n",
    "\n",
    "\"\"\"\n",
    "```\n",
    "\"\"\""
   ]
  },
  {
   "cell_type": "code",
   "execution_count": null,
   "id": "190d9373",
   "metadata": {},
   "outputs": [
    {
     "name": "stdout",
     "output_type": "stream",
     "text": [
      "[0 2 4 6 8]\n",
      "[1 3 5 7 9]\n",
      "==============================\n",
      "[0 0 1 1 2 2]\n",
      "==============================\n",
      "[[ 1  4]\n",
      " [ 5  8]\n",
      " [ 9 12]]\n",
      "[[ 1  4]\n",
      " [ 5  8]\n",
      " [ 9 12]]\n",
      "==============================\n",
      "[[ 9 10 11 12]\n",
      " [ 1  2  3  4]\n",
      " [ 5  6  7  8]]\n",
      "[[ 3  1  2  4]\n",
      " [ 7  5  6  8]\n",
      " [11  9 10 12]]\n",
      "==============================\n",
      "[ 3  6  9 12 15 18]\n",
      "[ 1  5  9 13 17]\n",
      "[9]\n"
     ]
    },
    {
     "data": {
      "text/plain": [
       "'\\n```\\n'"
      ]
     },
     "execution_count": 112,
     "metadata": {},
     "output_type": "execute_result"
    }
   ],
   "source": [
    "### 7.7 fancy indexing\n",
    "\n",
    "\"\"\"\n",
    "- 대괄호안의 인덱스 정보로, 숫자나 슬라이스가 아니라, 위치정보를 나타내는 또 다른 ndarray 배열을 받을 수 있다.\n",
    "- 불리언(Boolean) 배열 방식과 정수 배열 방식\n",
    "\"\"\"\n",
    "\n",
    "\"\"\"\n",
    "```\n",
    "\"\"\"\n",
    "import numpy as np\n",
    "\n",
    "# 1차원 배열 fancy 인덱싱\n",
    "a = np.array([0,1,2,3,4,5,6,7,8,9])\n",
    "\n",
    "# 1차원 배열에서 Boolean 인덱싱 (배열과 인덱싱 배열의 길이가 같아야 함.)\n",
    "idx = np.array([True, False, True, False, True, False, True, False, True, False]) # Boolean 배열의 길이가 a 길이랑 다르면 오류\n",
    "print(a[idx]) # True인 인덱스만 추출\n",
    "print(a[a % 2 != 0]) # 각 원소에 조건식 적용하여, 홀수 데이터만 추출\n",
    "print('=' * 30)\n",
    "\n",
    "# 1차원 배열에서 정수 인덱싱 (배열과 인덱싱 배열의 길이가 달라도 괜찮음)\n",
    "  # 다만 인덱싱 배열의 원소(원본 배열 인덱스를 가리킴)가 원본 배열의 인덱스를 넘어가면 오류.\n",
    "idx = np.array([0,0,1,1,2,2]) # 0번 인덱스, 0번 인덱스, 1번 인덱스, 1번 인덱스, 2번 인덱스, 2번 인덱스\n",
    "print(a[idx])  # 0 0 1 1 2 2\n",
    "print('=' * 30)\n",
    "\n",
    "# 2차원 배열 정수 인덱싱\n",
    "a = np.array([[1,2,3,4], [5,6,7,8], [9,10,11,12]])\n",
    "\n",
    "print(a[:, [0,3]]) # 모든행, [0번열, 3번열]\n",
    "print(a[:, [True, False, False, True]])\n",
    "print('=' * 30)\n",
    "\n",
    "# 행 순서 변경하기\n",
    "print(a[[2, 0, 1]])\n",
    "# 열 순서 변경하기\n",
    "print(a[:, [2, 0, 1, 3]])\n",
    "print('=' * 30)\n",
    "\n",
    "x = np.array([1,2,3,4,5,6,7,8,9,10,11,12,13,14,15,16,17,18,19,20])\n",
    "# 3의 배수\n",
    "print(x[x % 3 == 0])\n",
    "# 4로 나누면 1이 남는 수\n",
    "print(x[x % 4 == 1])\n",
    "# 3으로 나누면 나누어지고, 4로 나누면 1이 남는 수\n",
    "print(x[(x % 3 == 0) & (x % 4 == 1)]) # 조건식 2개 이상 작성 시, ()로 묶어 작성\n",
    "print('=' * 30)\n",
    "\n",
    "\"\"\"\n",
    "```\n",
    "\"\"\""
   ]
  },
  {
   "cell_type": "code",
   "execution_count": 143,
   "id": "adbcc45b",
   "metadata": {},
   "outputs": [
    {
     "name": "stdout",
     "output_type": "stream",
     "text": [
      "[array([ True, False, False, False,  True, False, False])]\n",
      "[2 4 6]\n"
     ]
    }
   ],
   "source": [
    "import numpy as np\n",
    "\n",
    "names = np.array(['a', 'b', 'c', 'd', 'a', 'b', 'd'])\n",
    "boolArr = [names == 'a']\n",
    "print(boolArr)\n",
    "\n",
    "numArr = np.array([1,2,3,4,5,6,7])\n",
    "print(numArr[numArr % 2 == 0])\n",
    "\n",
    "numArr = np.array([[1,2,3,4],[5,6,7,8],[9,10,11,12]])\n"
   ]
  },
  {
   "cell_type": "code",
   "execution_count": null,
   "id": "4c8a748c",
   "metadata": {},
   "outputs": [],
   "source": [
    "### Numpy 함수\n",
    "\n",
    "\"\"\"\n",
    "- 설명 1\n",
    "\"\"\"\n",
    "\n",
    "\"\"\"\n",
    "```\n",
    "\"\"\"\n",
    "import numpy as np\n",
    "\n",
    "data = [1,4,9,16]\n",
    "\n",
    "print(np.sum(data))\n",
    "print(np.sqrt(data))\n",
    "print(np.pow(data))\n",
    "print(np.mean(data))\n",
    "print(np.abs(data))\n",
    "\n",
    "\"\"\"\n",
    "```\n",
    "\"\"\""
   ]
  }
 ],
 "metadata": {
  "kernelspec": {
   "display_name": "Python 3",
   "language": "python",
   "name": "python3"
  },
  "language_info": {
   "codemirror_mode": {
    "name": "ipython",
    "version": 3
   },
   "file_extension": ".py",
   "mimetype": "text/x-python",
   "name": "python",
   "nbconvert_exporter": "python",
   "pygments_lexer": "ipython3",
   "version": "3.11.8"
  }
 },
 "nbformat": 4,
 "nbformat_minor": 5
}
