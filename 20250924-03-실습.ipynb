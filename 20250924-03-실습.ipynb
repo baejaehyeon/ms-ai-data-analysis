{
 "cells": [
  {
   "cell_type": "code",
   "execution_count": null,
   "id": "56c42126",
   "metadata": {},
   "outputs": [
    {
     "name": "stdout",
     "output_type": "stream",
     "text": [
      "[ 0  1  2  3  4  5  6  7  8  9 10 11 12 13 14 15 16 17 18 19 20 21 22 23\n",
      " 24 25 26 27 28 29 30 31 32 33 34 35 36 37 38 39 40 41 42 43 44 45 46 47\n",
      " 48 49 50 51 52 53 54 55 56 57 58 59 60 61 62 63 64 65 66 67 68 69 70 71\n",
      " 72 73 74 75 76 77 78 79 80 81 82 83 84 85 86 87 88 89 90 91 92 93 94 95\n",
      " 96 97 98 99]\n",
      "[ 3  6  9 12 15 18 21 24 27]\n",
      "[0.  0.1 0.2 0.3 0.4 0.5 0.6 0.7 0.8 0.9]\n",
      "[[0 1 2]\n",
      " [3 4 5]]\n"
     ]
    }
   ],
   "source": [
    "### arange 실습\n",
    "\n",
    "import numpy as np\n",
    "\n",
    "# 0 ~ 99까지\n",
    "l1 = np.arange(100)\n",
    "print(l1)\n",
    "\n",
    "# 구구단 3단 출력\n",
    "l2 = np.arange(1, 10) * 3\n",
    "print(l2)\n",
    "\n",
    "# 0부터 1까지 0.1 간격\n",
    "l3 = np.arange(0, 1, 0.1)\n",
    "print(l3)\n",
    "\n"
   ]
  },
  {
   "cell_type": "code",
   "execution_count": null,
   "id": "8d06bfae",
   "metadata": {},
   "outputs": [
    {
     "name": "stdout",
     "output_type": "stream",
     "text": [
      "[[0 1 2]\n",
      " [3 4 5]]\n",
      "[[0]\n",
      " [1]\n",
      " [2]]\n",
      "[[0]\n",
      " [1]\n",
      " [2]]\n"
     ]
    }
   ],
   "source": [
    "### reshape 실습\n",
    "\n",
    "import numpy as np\n",
    "\n",
    "# 행, 열 변환\n",
    "l1 = np.array([0,1,2,3,4,5])\n",
    "print(l1.reshape(2,3))\n",
    "\n",
    "# 3행 1열로 변환\n",
    "l2 = np.arange(3)\n",
    "print(l2.reshape(3, 1)) \n",
    "print(l2.reshape(-1, 1))  # 1열로 만들고 행(음수)은 자동 처리\n"
   ]
  },
  {
   "cell_type": "code",
   "execution_count": null,
   "id": "debf98c9",
   "metadata": {},
   "outputs": [
    {
     "name": "stdout",
     "output_type": "stream",
     "text": [
      "[1. 1. 1. 1. 1. 1. 1. 1. 1. 1. 1. 1. 1. 1. 1. 1. 1. 1. 1. 1.]\n",
      "[[1. 1. 1. 1. 1.]\n",
      " [1. 1. 1. 1. 1.]\n",
      " [1. 1. 1. 1. 1.]\n",
      " [1. 1. 1. 1. 1.]]\n",
      "[[255. 255. 255. 255. 255. 255. 255. 255. 255. 255.]\n",
      " [255. 255. 255. 255. 255. 255. 255. 255. 255. 255.]\n",
      " [255. 255. 255. 255. 255. 255. 255. 255. 255. 255.]\n",
      " [255. 255. 255. 255. 255. 255. 255. 255. 255. 255.]\n",
      " [255. 255. 255. 255. 255. 255. 255. 255. 255. 255.]\n",
      " [255. 255. 255. 255. 255. 255. 255. 255. 255. 255.]\n",
      " [255. 255. 255. 255. 255. 255. 255. 255. 255. 255.]\n",
      " [255. 255. 255. 255. 255. 255. 255. 255. 255. 255.]\n",
      " [255. 255. 255. 255. 255. 255. 255. 255. 255. 255.]\n",
      " [255. 255. 255. 255. 255. 255. 255. 255. 255. 255.]]\n"
     ]
    }
   ],
   "source": [
    "### ones 실습\n",
    "\n",
    "import numpy as np\n",
    "\n",
    "# 1이 20개 저장된 배열\n",
    "li1 = np.ones(20)\n",
    "print(li1)\n",
    "\n",
    "# 1로 채워진 4행 5열\n",
    "li2 = np.ones(20).reshape(4,5)\n",
    "print(li2)\n",
    "\n",
    "# 255로 채워진 10행 10열\n",
    "li3 = (np.ones(100) * 255).reshape(10, 10)\n",
    "print(li3)"
   ]
  },
  {
   "cell_type": "code",
   "execution_count": 25,
   "id": "87a95e92",
   "metadata": {},
   "outputs": [
    {
     "name": "stdout",
     "output_type": "stream",
     "text": [
      "[[0. 0. 0. 0.]\n",
      " [0. 0. 0. 0.]\n",
      " [0. 0. 0. 0.]]\n"
     ]
    }
   ],
   "source": [
    "### zeros 실습\n",
    "\n",
    "import numpy as np\n",
    "\n",
    "li1 = np.zeros(12).reshape(3,4)\n",
    "print(li1)"
   ]
  },
  {
   "cell_type": "code",
   "execution_count": null,
   "id": "0f3afed0",
   "metadata": {},
   "outputs": [
    {
     "name": "stdout",
     "output_type": "stream",
     "text": [
      "[1 2 3]\n",
      "int32\n",
      "int16\n",
      "100.0\n"
     ]
    }
   ],
   "source": [
    "### dtype 실습\n",
    "\n",
    "import numpy as np\n",
    "\n",
    "# 리스트를 정수형 배열로 변환\n",
    "l = [1,2,3]\n",
    "l1 = np.array(l, dtype='int32')\n",
    "print(l1)\n",
    "\n",
    "# 데이터 타입 확인\n",
    "print(l1.dtype)\n",
    "\n",
    "# 데이터 타입 변경\n",
    "l1 = l1.astype('int16')\n",
    "print(l1.dtype)\n",
    "\n"
   ]
  },
  {
   "cell_type": "code",
   "execution_count": null,
   "id": "42ee556b",
   "metadata": {},
   "outputs": [
    {
     "name": "stdout",
     "output_type": "stream",
     "text": [
      "[[0 1 2]\n",
      " [3 4 5]\n",
      " [6 7 8]]\n",
      "[[6 7 8]]\n",
      "[[6 7 8]]\n",
      "[1 4 7]\n",
      "[1 4 7]\n",
      "[[ 0  1  2  3  4]\n",
      " [ 5  6  7  8  9]\n",
      " [10 11 12 13 14]\n",
      " [15 16 17 18 19]\n",
      " [20 21 22 23 24]]\n",
      "17\n",
      "[[17 18 19]\n",
      " [22 23 24]]\n",
      "[ 0  6 12 18 24]\n",
      "[14 24]\n"
     ]
    }
   ],
   "source": [
    "### 인덱싱 실습\n",
    "\n",
    "import numpy as np\n",
    "\n",
    "arr = np.arange(9).reshape(3,3)\n",
    "print(arr)\n",
    "\n",
    "# 마지막 행만 출력\n",
    "print(arr[-1:])\n",
    "print(arr[2:])\n",
    "\n",
    "# 두번째 컬럼만 출력\n",
    "print(arr[:, 1])\n",
    "print(arr[:, -2])\n",
    "\n",
    "# 0~24까지의 5행 5열\n",
    "arr = np.arange(25).reshape(5,5)\n",
    "print(arr)\n",
    "\n",
    "# 17 출력\n",
    "print(arr[3][2])\n",
    "\n",
    "# 17,18,19 22,23,24 출력\n",
    "print(arr[3:,2:])\n",
    "\n",
    "# 대각선 뽑기\n",
    "print(arr[[0,1,2,3,4],[0,1,2,3,4]])\n",
    "\n",
    "# (2행4열, 4행 4열)\n",
    "print(arr[[2,4], 4])\n",
    "\n"
   ]
  },
  {
   "cell_type": "code",
   "execution_count": null,
   "id": "24d17dc7",
   "metadata": {},
   "outputs": [
    {
     "name": "stdout",
     "output_type": "stream",
     "text": [
      "[1 3]\n",
      "[[ 0  1  2  3  4]\n",
      " [ 5  6  7  8  9]\n",
      " [10 11 12 13 14]\n",
      " [15 16 17 18 19]\n",
      " [20 21 22 23 24]]\n",
      "[6 7 8 9]\n",
      "[6 7 8 9]\n",
      "[[11 12]\n",
      " [16 17]]\n",
      "[[ 0  1]\n",
      " [ 5  6]\n",
      " [10 11]\n",
      " [15 16]\n",
      " [20 21]]\n",
      "[[ 6  7]\n",
      " [11 12]]\n",
      "[ 0 23]\n"
     ]
    }
   ],
   "source": [
    "### 슬라이싱 실습\n",
    "\n",
    "import numpy as np\n",
    "\n",
    "arr = np.arange(5)\n",
    "\n",
    "# [1 3] 추출\n",
    "print(arr[[1,3]])\n",
    "\n",
    "arr = np.arange(25).reshape(5,5)\n",
    "print(arr)\n",
    "\n",
    "# [6 7 8 9] 추출\n",
    "print(arr[1,1:])\n",
    "print(arr[[1],[1,2,3,4]])\n",
    "\n",
    "# [11 12 16 17] 추출\n",
    "print(arr[2:4, 1:3])\n",
    "\n",
    "# 첫번째, 두번쨰 컬럼 추출\n",
    "print(arr[:, [0,1]])\n",
    "\n",
    "# 6,7,11,12 2행 2열로 추출\n",
    "print(arr[1:3, 1:3])\n"
   ]
  },
  {
   "cell_type": "code",
   "execution_count": null,
   "id": "ea0f41bd",
   "metadata": {},
   "outputs": [
    {
     "name": "stdout",
     "output_type": "stream",
     "text": [
      "[1 2 3]\n",
      "[10 20 30]\n",
      "[1 4 9]\n",
      "[15. 15.]\n",
      "[[ 0  2]\n",
      " [ 6 12]]\n"
     ]
    }
   ],
   "source": [
    "### 연산\n",
    "\n",
    "import numpy as np\n",
    "\n",
    "arr = np.arange(1,4)\n",
    "print(arr)\n",
    "\n",
    "# 각 원소에 10을 곱하라\n",
    "arr *= 10\n",
    "print(arr)\n",
    "\n",
    "# 각 원소 제곱 결과 출력\n",
    "arr = np.arange(1,4)\n",
    "arr **= 2\n",
    "print(arr)\n",
    "\n",
    "# 과목별 평균 점수\n",
    "arr = np.array([[10,20], [14,16]]) # [국어, 영어], [국어, 영어]\n",
    "print(arr.mean(axis=1)) # 수직 축\n",
    "\n",
    "# 행렬 곱\n",
    "arr1 = np.arange(4).reshape(2,2)\n",
    "arr2 = np.arange(1,5).reshape(2,2)\n",
    "\n",
    "print(arr1 * arr2)\n",
    "\n"
   ]
  },
  {
   "cell_type": "code",
   "execution_count": null,
   "id": "51e8a3e0",
   "metadata": {},
   "outputs": [
    {
     "name": "stdout",
     "output_type": "stream",
     "text": [
      "[[0 1 2]\n",
      " [3 4 5]\n",
      " [6 7 8]]\n",
      "[[0 3 6]\n",
      " [1 4 7]\n",
      " [2 5 8]]\n",
      "[0 2 4 6 8]\n",
      "[1 3 5 7 9]\n",
      "[4 5 6]\n"
     ]
    }
   ],
   "source": [
    "### 전치행렬, 짝수, 홀수 배열\n",
    "import numpy as np\n",
    "\n",
    "# 전치 행렬\n",
    "arr = np.arange(9).reshape(3, 3)\n",
    "print(arr)\n",
    "print(arr.T)\n",
    "\n",
    "arr = np.arange(10)\n",
    "\n",
    "# 짝수\n",
    "print(arr[arr % 2 == 0])\n",
    "# 홀수\n",
    "print(arr[arr % 2 == 1])\n",
    "# 3보다 크고 7보다 작은 수 출력\n",
    "print(arr[(arr>3) & (arr<7)])"
   ]
  },
  {
   "cell_type": "code",
   "execution_count": null,
   "id": "a9e5857f",
   "metadata": {},
   "outputs": [
    {
     "name": "stdout",
     "output_type": "stream",
     "text": [
      "[-1 -3]\n",
      "[0 2 0 4]\n",
      "[1 2 3 4]\n"
     ]
    }
   ],
   "source": [
    "### 조건에 따라 값 출력 or 변경\n",
    "\n",
    "import numpy as np\n",
    "\n",
    "arr = np.array([-1, 2, -3, 4])\n",
    "\n",
    "# 음수만 출력\n",
    "print(arr[arr < 0])\n",
    "\n",
    "# 음수 => 0으로 치환\n",
    "arr[arr < 0] = 0\n",
    "print(arr)\n",
    "\n",
    "# 음수 => 양수로 변환\n",
    "arr = np.array([-1, 2, -3, 4])\n",
    "arr[arr < 0] -= arr[arr < 0] * 2\n",
    "print(arr)"
   ]
  },
  {
   "cell_type": "code",
   "execution_count": 128,
   "id": "1a7bade9",
   "metadata": {},
   "outputs": [
    {
     "name": "stdout",
     "output_type": "stream",
     "text": [
      "[1 3 5 2 4]\n",
      "2\n",
      "0\n",
      "[1 2 3 4 5]\n"
     ]
    }
   ],
   "source": [
    "### 무작위로 섞기, 최댓값, 최솟값, 정렬\n",
    "\n",
    "import numpy as np\n",
    "\n",
    "arr = np.arange(1,6)\n",
    "\n",
    "# 무작위로 섞기\n",
    "np.random.shuffle(arr)\n",
    "print(arr)\n",
    "\n",
    "\n",
    "# 최댓값의 인덱스 번호\n",
    "print(arr.argmax())\n",
    "# 최솟값의 인덱스 번호\n",
    "print(arr.argmin())\n",
    "\n",
    "# 오름차순 정렬\n",
    "arr.sort()\n",
    "print(arr)\n"
   ]
  }
 ],
 "metadata": {
  "kernelspec": {
   "display_name": "Python 3",
   "language": "python",
   "name": "python3"
  },
  "language_info": {
   "codemirror_mode": {
    "name": "ipython",
    "version": 3
   },
   "file_extension": ".py",
   "mimetype": "text/x-python",
   "name": "python",
   "nbconvert_exporter": "python",
   "pygments_lexer": "ipython3",
   "version": "3.11.8"
  }
 },
 "nbformat": 4,
 "nbformat_minor": 5
}
